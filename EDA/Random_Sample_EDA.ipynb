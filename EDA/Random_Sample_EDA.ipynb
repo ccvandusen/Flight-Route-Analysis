{
 "cells": [
  {
   "cell_type": "code",
   "execution_count": 2,
   "metadata": {
    "collapsed": true
   },
   "outputs": [],
   "source": [
    "import pandas as pd\n",
    "import numpy as np\n",
    "import matplotlib.pyplot as plt\n",
    "import random\n",
    "%matplotlib inline"
   ]
  },
  {
   "cell_type": "code",
   "execution_count": 3,
   "metadata": {
    "collapsed": false
   },
   "outputs": [],
   "source": [
    "filename = \"data/2004_indicators.csv\"\n",
    "n = sum(1 for line in open(filename)) - 1 #number of records in file (excludes header)\n",
    "s = 10000 #desired sample size\n",
    "skip = sorted(random.sample(xrange(1,n+1),n-s)) #the 0-indexed header will not be included in the skip list\n",
    "df = pd.read_csv(filename, skiprows=skip)"
   ]
  },
  {
   "cell_type": "code",
   "execution_count": 34,
   "metadata": {
    "collapsed": false
   },
   "outputs": [],
   "source": [
    "hubs = df.groupby(['Origin','UniqueCarrier']).count()"
   ]
  },
  {
   "cell_type": "code",
   "execution_count": 23,
   "metadata": {
    "collapsed": true
   },
   "outputs": [],
   "source": [
    "lat_lon = pd.read_csv('data/LatLon.csv', names=['AIRPORT_CODE','POINT_LAT','POINT_LON','MODE_AIR'])"
   ]
  },
  {
   "cell_type": "code",
   "execution_count": 24,
   "metadata": {
    "collapsed": false
   },
   "outputs": [
    {
     "data": {
      "text/plain": [
       "Index([u'AIRPORT_CODE', u'POINT_LAT', u'POINT_LON', u'MODE_AIR'], dtype='object')"
      ]
     },
     "execution_count": 24,
     "metadata": {},
     "output_type": "execute_result"
    }
   ],
   "source": [
    "lat_lon.columns"
   ]
  },
  {
   "cell_type": "code",
   "execution_count": 25,
   "metadata": {
    "collapsed": false
   },
   "outputs": [],
   "source": [
    "test = lat_lon[lat_lon['AIRPORT_CODE'].notnull()]\n",
    "#aircodes = test[test['MODE_AIR']==1]\n",
    "aircodes2 = test[test['MODE_AIR']==1]"
   ]
  },
  {
   "cell_type": "code",
   "execution_count": 26,
   "metadata": {
    "collapsed": false
   },
   "outputs": [
    {
     "name": "stdout",
     "output_type": "stream",
     "text": [
      "258 666\n"
     ]
    }
   ],
   "source": [
    "print len(df['Origin'].unique()), len(aircodes['AIRPORT_CODE'].unique())"
   ]
  },
  {
   "cell_type": "code",
   "execution_count": 9,
   "metadata": {
    "collapsed": false
   },
   "outputs": [],
   "source": [
    "airport_lon_lat2 = {}\n",
    "for row in aircodes.values:\n",
    "    airport_lon_lat2[row[0]] = \\\n",
    "    (row[1],row[2])"
   ]
  },
  {
   "cell_type": "code",
   "execution_count": 30,
   "metadata": {
    "collapsed": false
   },
   "outputs": [
    {
     "name": "stdout",
     "output_type": "stream",
     "text": [
      "10000 10000\n"
     ]
    }
   ],
   "source": [
    "origin_gps = []\n",
    "dest_gps = []\n",
    "for code in df['Origin']:\n",
    "    if code not in airport_lon_lat.keys():\n",
    "        origin_gps.append((0,0))\n",
    "    else:\n",
    "        origin_gps.append(airport_lon_lat[code])\n",
    "for code in df['Dest']:\n",
    "    if code not in airport_lon_lat.keys():\n",
    "        dest_gps.append((0,0))\n",
    "    else:\n",
    "        dest_gps.append(airport_lon_lat[code])\n",
    "print len(origin_gps), len(dest_gps)"
   ]
  },
  {
   "cell_type": "code",
   "execution_count": 14,
   "metadata": {
    "collapsed": false
   },
   "outputs": [],
   "source": [
    "series = pd.Series(origin_gps)"
   ]
  },
  {
   "cell_type": "code",
   "execution_count": 31,
   "metadata": {
    "collapsed": true
   },
   "outputs": [],
   "source": [
    "df['Origin_GPS'] = pd.Series(origin_gps)"
   ]
  },
  {
   "cell_type": "code",
   "execution_count": 7,
   "metadata": {
    "collapsed": false
   },
   "outputs": [
    {
     "data": {
      "text/plain": [
       "27"
      ]
     },
     "execution_count": 7,
     "metadata": {},
     "output_type": "execute_result"
    }
   ],
   "source": [
    "len(df.columns)"
   ]
  },
  {
   "cell_type": "code",
   "execution_count": 8,
   "metadata": {
    "collapsed": false
   },
   "outputs": [
    {
     "data": {
      "text/plain": [
       "Index([u'Unnamed: 0', u'DepTime', u'CRSDepTime', u'ArrTime', u'CRSArrTime',\n",
       "       u'UniqueCarrier', u'FlightNum', u'ActualElapsedTime', u'CRSElapsedTime',\n",
       "       u'AirTime', u'ArrDelay', u'DepDelay', u'Origin', u'Dest', u'Distance',\n",
       "       u'TaxiIn', u'TaxiOut', u'Cancelled', u'Diverted', u'CarrierDelay',\n",
       "       u'WeatherDelay', u'NASDelay', u'SecurityDelay', u'LateAircraftDelay',\n",
       "       u'route', u'date', u'Closure'],\n",
       "      dtype='object')"
      ]
     },
     "execution_count": 8,
     "metadata": {},
     "output_type": "execute_result"
    }
   ],
   "source": [
    "df.columns"
   ]
  },
  {
   "cell_type": "code",
   "execution_count": null,
   "metadata": {
    "collapsed": true
   },
   "outputs": [],
   "source": []
  }
 ],
 "metadata": {
  "kernelspec": {
   "display_name": "Python [default]",
   "language": "python",
   "name": "python2"
  },
  "language_info": {
   "codemirror_mode": {
    "name": "ipython",
    "version": 2
   },
   "file_extension": ".py",
   "mimetype": "text/x-python",
   "name": "python",
   "nbconvert_exporter": "python",
   "pygments_lexer": "ipython2",
   "version": "2.7.13"
  }
 },
 "nbformat": 4,
 "nbformat_minor": 2
}
