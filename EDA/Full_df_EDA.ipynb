{
 "cells": [
  {
   "cell_type": "code",
   "execution_count": 79,
   "metadata": {
    "collapsed": true
   },
   "outputs": [],
   "source": [
    "import pandas as pd\n",
    "import numpy as np\n",
    "import matplotlib.pyplot as plt\n",
    "from collections import defaultdict\n",
    "%matplotlib inline"
   ]
  },
  {
   "cell_type": "code",
   "execution_count": 43,
   "metadata": {
    "collapsed": false
   },
   "outputs": [],
   "source": [
    "o8 = pd.read_csv('data/2008_indicators.csv',usecols=['UniqueCarrier','Origin','Dest'])\n",
    "o7 = pd.read_csv('data/2007_indicators.csv',usecols=['UniqueCarrier','Origin','Dest'])\n",
    "o6 = pd.read_csv('data/2006_indicators.csv',usecols=['UniqueCarrier','Origin','Dest'])\n",
    "o5 = pd.read_csv('data/2005_indicators.csv',usecols=['UniqueCarrier','Origin','Dest'])\n",
    "o4 = pd.read_csv('data/2004_indicators.csv',usecols=['UniqueCarrier','Origin','Dest'])"
   ]
  },
  {
   "cell_type": "code",
   "execution_count": 51,
   "metadata": {
    "collapsed": false
   },
   "outputs": [],
   "source": [
    "all_carriers = o4.append(o5)\n",
    "all_carriers = all_carriers.append(o6)\n",
    "all_carriers = all_carriers.append(o7)\n",
    "all_carriers = all_carriers.append(o8)"
   ]
  },
  {
   "cell_type": "code",
   "execution_count": 52,
   "metadata": {
    "collapsed": false
   },
   "outputs": [],
   "source": [
    "# These are the carriers I'm going to use\n",
    "Carriers = ['AA', 'AS', 'B6', 'CO', 'DL', 'EV',\n",
    "            'F9', 'HA', 'HP', 'NK', 'OO', 'UA', 'VX', 'WN', 'US']\n",
    "all_carriers = all_carriers[all_carriers['UniqueCarrier'].isin(Carriers)]"
   ]
  },
  {
   "cell_type": "code",
   "execution_count": 53,
   "metadata": {
    "collapsed": false
   },
   "outputs": [],
   "source": [
    "groupby = all_carriers.groupby(['UniqueCarrier','Origin']).count()"
   ]
  },
  {
   "cell_type": "code",
   "execution_count": 54,
   "metadata": {
    "collapsed": false
   },
   "outputs": [],
   "source": [
    "sorted_g = groupby['Dest'].groupby(level=0,group_keys=False)"
   ]
  },
  {
   "cell_type": "code",
   "execution_count": 55,
   "metadata": {
    "collapsed": false
   },
   "outputs": [],
   "source": [
    "top_counts = sorted_g.nlargest(5)"
   ]
  },
  {
   "cell_type": "code",
   "execution_count": 56,
   "metadata": {
    "collapsed": false
   },
   "outputs": [],
   "source": [
    "origin_pcts = groupby.groupby(level=0).apply(lambda x:\n",
    "                                                 100 * x / float(x.sum()))"
   ]
  },
  {
   "cell_type": "code",
   "execution_count": 57,
   "metadata": {
    "collapsed": false
   },
   "outputs": [
    {
     "name": "stdout",
     "output_type": "stream",
     "text": [
      "UniqueCarrier  Origin\n",
      "AA             DFW       25.119006\n",
      "               ORD       12.455016\n",
      "               MIA        6.274013\n",
      "               LAX        4.750441\n",
      "               LGA        3.396021\n",
      "AS             SEA       30.616135\n",
      "               ANC        9.842256\n",
      "               PDX        7.877650\n",
      "               LAX        4.801435\n",
      "               SNA        3.662933\n",
      "B6             JFK       30.933795\n",
      "               BOS        8.665644\n",
      "               FLL        6.763089\n",
      "               LGB        5.883033\n",
      "               MCO        5.827534\n",
      "CO             IAH       28.525428\n",
      "               EWR       18.674512\n",
      "               CLE        5.037771\n",
      "               LAX        2.417444\n",
      "               MCO        2.253591\n",
      "DL             ATL       32.090591\n",
      "               CVG        5.888384\n",
      "               SLC        5.803955\n",
      "               LGA        3.900936\n",
      "               BOS        3.009951\n",
      "EV             ATL       40.889663\n",
      "               DFW        3.783738\n",
      "               CVG        3.116280\n",
      "               SLC        1.692847\n",
      "               CAE        1.115311\n",
      "                           ...    \n",
      "HA             HNL       46.651704\n",
      "               OGG       16.607490\n",
      "               LIH       11.662175\n",
      "               KOA        9.120082\n",
      "               ITO        6.496919\n",
      "HP             PHX       33.631206\n",
      "               LAS       17.601424\n",
      "               LAX        4.201964\n",
      "               SFO        2.584359\n",
      "               SAN        2.136407\n",
      "OO             SLC       14.582792\n",
      "               LAX        8.926480\n",
      "               DEN        8.228980\n",
      "               ORD        7.262072\n",
      "               SFO        7.218569\n",
      "UA             ORD       20.085844\n",
      "               DEN       16.106486\n",
      "               SFO        9.096485\n",
      "               LAX        6.820500\n",
      "               IAD        5.351002\n",
      "US             CLT       17.149717\n",
      "               PHL       12.090025\n",
      "               PHX        9.062780\n",
      "               DCA        6.503952\n",
      "               LAS        4.950450\n",
      "WN             LAS        7.019215\n",
      "               PHX        6.276963\n",
      "               MDW        6.176916\n",
      "               BWI        5.338692\n",
      "               HOU        4.389213\n",
      "Name: Dest, dtype: float64\n"
     ]
    }
   ],
   "source": [
    "sorted_pct = origin_pcts['Dest'].groupby(level=0,group_keys=False)\n",
    "top_pct = sorted_pct.nlargest(5)\n",
    "print top_pct"
   ]
  },
  {
   "cell_type": "code",
   "execution_count": 76,
   "metadata": {
    "collapsed": false
   },
   "outputs": [
    {
     "data": {
      "text/plain": [
       "'WN'"
      ]
     },
     "execution_count": 76,
     "metadata": {},
     "output_type": "execute_result"
    }
   ],
   "source": [
    "top_pct.index[64][0]"
   ]
  },
  {
   "cell_type": "code",
   "execution_count": 69,
   "metadata": {
    "collapsed": false
   },
   "outputs": [
    {
     "ename": "AttributeError",
     "evalue": "Cannot access attribute 'index' of 'SeriesGroupBy' objects, try using the 'apply' method",
     "output_type": "error",
     "traceback": [
      "\u001b[0;31m---------------------------------------------------------------------------\u001b[0m",
      "\u001b[0;31mAttributeError\u001b[0m                            Traceback (most recent call last)",
      "\u001b[0;32m<ipython-input-69-31ea75e76734>\u001b[0m in \u001b[0;36m<module>\u001b[0;34m()\u001b[0m\n\u001b[0;32m----> 1\u001b[0;31m \u001b[0msorted_pct\u001b[0m\u001b[0;34m.\u001b[0m\u001b[0mindex\u001b[0m\u001b[0;34m\u001b[0m\u001b[0m\n\u001b[0m",
      "\u001b[0;32m/Users/ChrisV/anaconda/lib/python2.7/site-packages/pandas/core/groupby.pyc\u001b[0m in \u001b[0;36m__getattr__\u001b[0;34m(self, attr)\u001b[0m\n\u001b[1;32m    524\u001b[0m             \u001b[0;32mreturn\u001b[0m \u001b[0mself\u001b[0m\u001b[0;34m[\u001b[0m\u001b[0mattr\u001b[0m\u001b[0;34m]\u001b[0m\u001b[0;34m\u001b[0m\u001b[0m\n\u001b[1;32m    525\u001b[0m         \u001b[0;32mif\u001b[0m \u001b[0mhasattr\u001b[0m\u001b[0;34m(\u001b[0m\u001b[0mself\u001b[0m\u001b[0;34m.\u001b[0m\u001b[0mobj\u001b[0m\u001b[0;34m,\u001b[0m \u001b[0mattr\u001b[0m\u001b[0;34m)\u001b[0m\u001b[0;34m:\u001b[0m\u001b[0;34m\u001b[0m\u001b[0m\n\u001b[0;32m--> 526\u001b[0;31m             \u001b[0;32mreturn\u001b[0m \u001b[0mself\u001b[0m\u001b[0;34m.\u001b[0m\u001b[0m_make_wrapper\u001b[0m\u001b[0;34m(\u001b[0m\u001b[0mattr\u001b[0m\u001b[0;34m)\u001b[0m\u001b[0;34m\u001b[0m\u001b[0m\n\u001b[0m\u001b[1;32m    527\u001b[0m \u001b[0;34m\u001b[0m\u001b[0m\n\u001b[1;32m    528\u001b[0m         raise AttributeError(\"%r object has no attribute %r\" %\n",
      "\u001b[0;32m/Users/ChrisV/anaconda/lib/python2.7/site-packages/pandas/core/groupby.pyc\u001b[0m in \u001b[0;36m_make_wrapper\u001b[0;34m(self, name)\u001b[0m\n\u001b[1;32m    538\u001b[0m                    \"using the 'apply' method\".format(kind, name,\n\u001b[1;32m    539\u001b[0m                                                      type(self).__name__))\n\u001b[0;32m--> 540\u001b[0;31m             \u001b[0;32mraise\u001b[0m \u001b[0mAttributeError\u001b[0m\u001b[0;34m(\u001b[0m\u001b[0mmsg\u001b[0m\u001b[0;34m)\u001b[0m\u001b[0;34m\u001b[0m\u001b[0m\n\u001b[0m\u001b[1;32m    541\u001b[0m \u001b[0;34m\u001b[0m\u001b[0m\n\u001b[1;32m    542\u001b[0m         \u001b[0;31m# need to setup the selection\u001b[0m\u001b[0;34m\u001b[0m\u001b[0;34m\u001b[0m\u001b[0m\n",
      "\u001b[0;31mAttributeError\u001b[0m: Cannot access attribute 'index' of 'SeriesGroupBy' objects, try using the 'apply' method"
     ]
    }
   ],
   "source": [
    "sorted_pct.index"
   ]
  },
  {
   "cell_type": "code",
   "execution_count": 80,
   "metadata": {
    "collapsed": true
   },
   "outputs": [],
   "source": [
    "hub_dict = defaultdict(list)\n",
    "for index in xrange(len(top_pct)):\n",
    "    if top_pct[index] > 5.0:\n",
    "        hub_dict[top_pct.index[index][0]].append(top_pct.index[index][1])"
   ]
  },
  {
   "cell_type": "code",
   "execution_count": 81,
   "metadata": {
    "collapsed": false
   },
   "outputs": [
    {
     "data": {
      "text/plain": [
       "defaultdict(list,\n",
       "            {'AA': ['DFW', 'ORD', 'MIA'],\n",
       "             'AS': ['SEA', 'ANC', 'PDX'],\n",
       "             'B6': ['JFK', 'BOS', 'FLL', 'LGB', 'MCO'],\n",
       "             'CO': ['IAH', 'EWR', 'CLE'],\n",
       "             'DL': ['ATL', 'CVG', 'SLC'],\n",
       "             'EV': ['ATL'],\n",
       "             'F9': ['DEN'],\n",
       "             'HA': ['HNL', 'OGG', 'LIH', 'KOA', 'ITO'],\n",
       "             'HP': ['PHX', 'LAS'],\n",
       "             'OO': ['SLC', 'LAX', 'DEN', 'ORD', 'SFO'],\n",
       "             'UA': ['ORD', 'DEN', 'SFO', 'LAX', 'IAD'],\n",
       "             'US': ['CLT', 'PHL', 'PHX', 'DCA'],\n",
       "             'WN': ['LAS', 'PHX', 'MDW', 'BWI']})"
      ]
     },
     "execution_count": 81,
     "metadata": {},
     "output_type": "execute_result"
    }
   ],
   "source": [
    "hub_dict"
   ]
  },
  {
   "cell_type": "code",
   "execution_count": 97,
   "metadata": {
    "collapsed": false
   },
   "outputs": [
    {
     "name": "stdout",
     "output_type": "stream",
     "text": [
      "UniqueCarrier     WN\n",
      "Origin           IAD\n",
      "Name: 0, dtype: object\n",
      "UniqueCarrier     WN\n",
      "Origin           IAD\n",
      "Name: 1, dtype: object\n",
      "UniqueCarrier     WN\n",
      "Origin           IND\n",
      "Name: 2, dtype: object\n",
      "UniqueCarrier     WN\n",
      "Origin           IND\n",
      "Name: 3, dtype: object\n",
      "UniqueCarrier     WN\n",
      "Origin           IND\n",
      "Name: 4, dtype: object\n",
      "UniqueCarrier     WN\n",
      "Origin           IND\n",
      "Name: 5, dtype: object\n",
      "UniqueCarrier     WN\n",
      "Origin           IND\n",
      "Name: 6, dtype: object\n",
      "UniqueCarrier     WN\n",
      "Origin           IND\n",
      "Name: 7, dtype: object\n",
      "UniqueCarrier     WN\n",
      "Origin           IND\n",
      "Name: 8, dtype: object\n",
      "UniqueCarrier     WN\n",
      "Origin           IND\n",
      "Name: 9, dtype: object\n",
      "UniqueCarrier     WN\n",
      "Origin           IND\n",
      "Name: 10, dtype: object\n",
      "UniqueCarrier     WN\n",
      "Origin           IND\n",
      "Name: 11, dtype: object\n",
      "UniqueCarrier     WN\n",
      "Origin           IND\n",
      "Name: 12, dtype: object\n",
      "UniqueCarrier     WN\n",
      "Origin           IND\n",
      "Name: 13, dtype: object\n",
      "UniqueCarrier     WN\n",
      "Origin           IND\n",
      "Name: 14, dtype: object\n",
      "UniqueCarrier     WN\n",
      "Origin           IND\n",
      "Name: 15, dtype: object\n",
      "UniqueCarrier     WN\n",
      "Origin           IND\n",
      "Name: 16, dtype: object\n",
      "UniqueCarrier     WN\n",
      "Origin           IND\n",
      "Name: 17, dtype: object\n",
      "UniqueCarrier     WN\n",
      "Origin           IND\n",
      "Name: 18, dtype: object\n",
      "UniqueCarrier     WN\n",
      "Origin           ISP\n",
      "Name: 19, dtype: object\n"
     ]
    }
   ],
   "source": [
    "for row in o8[['UniqueCarrier','Origin']].iloc[0:20].iterrows():\n",
    "    print row[1]"
   ]
  },
  {
   "cell_type": "code",
   "execution_count": null,
   "metadata": {
    "collapsed": true
   },
   "outputs": [],
   "source": []
  }
 ],
 "metadata": {
  "kernelspec": {
   "display_name": "Python [default]",
   "language": "python",
   "name": "python2"
  },
  "language_info": {
   "codemirror_mode": {
    "name": "ipython",
    "version": 2
   },
   "file_extension": ".py",
   "mimetype": "text/x-python",
   "name": "python",
   "nbconvert_exporter": "python",
   "pygments_lexer": "ipython2",
   "version": "2.7.13"
  }
 },
 "nbformat": 4,
 "nbformat_minor": 2
}
